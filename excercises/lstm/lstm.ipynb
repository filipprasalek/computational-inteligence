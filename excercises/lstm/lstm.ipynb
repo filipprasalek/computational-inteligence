{
 "cells": [
  {
   "cell_type": "markdown",
   "source": [
    "Obtain data form Coinranking API   "
   ],
   "metadata": {
    "collapsed": false,
    "pycharm": {
     "name": "#%% md\n"
    }
   }
  },
  {
   "cell_type": "code",
   "execution_count": 1,
   "metadata": {
    "collapsed": true,
    "pycharm": {
     "is_executing": false,
     "name": "#%%\n"
    }
   },
   "outputs": [
    {
     "data": {
      "text/plain": "<Response [200]>"
     },
     "metadata": {},
     "output_type": "execute_result",
     "execution_count": 1
    }
   ],
   "source": [
    "import requests,json\n",
    "import pandas as pd\n",
    "\n",
    "coin_id = 1 # 1 is BTC, 2 is ETH, 4 is BCH\n",
    "time_range = \"1y\"\n",
    "price_currency = \"EUR\"\n",
    "response = requests.get(\"https://api.coinranking.com/v1/public/coin/%s/history/%s?base=%s\" % (coin_id, time_range, price_currency))\n",
    "response"
   ]
  },
  {
   "cell_type": "markdown",
   "source": [
    "Dump response to JSON file"
   ],
   "metadata": {
    "collapsed": false,
    "pycharm": {
     "name": "#%% md\n"
    }
   }
  },
  {
   "cell_type": "code",
   "execution_count": 2,
   "outputs": [],
   "source": [
    "import os\n",
    "\n",
    "os.makedirs('responses', exist_ok=True)\n",
    "file = open('responses/coin%d-history%s-currency%s.json' % (coin_id, time_range, price_currency),'w+')\n",
    "file.write(response.text)\n",
    "file.close()\n"
   ],
   "metadata": {
    "collapsed": false,
    "pycharm": {
     "name": "#%%\n",
     "is_executing": false
    }
   }
  },
  {
   "cell_type": "markdown",
   "source": [
    "Load response in pandas data frame"
   ],
   "metadata": {
    "collapsed": false,
    "pycharm": {
     "name": "#%% md\n"
    }
   }
  },
  {
   "cell_type": "code",
   "execution_count": 3,
   "outputs": [
    {
     "data": {
      "text/plain": "timestamp\n2018-09-02    6115.234563\n2018-09-03    6237.371389\n2018-09-04    6253.482447\n2018-09-05    6324.652042\n2018-09-06    6152.730976\n                 ...     \n2019-08-28    9059.787395\n2019-08-29    8616.555789\n2019-08-30    8667.161586\n2019-08-31    8742.433461\n2019-09-01    8716.940672\nName: price, Length: 365, dtype: float64"
     },
     "metadata": {},
     "output_type": "execute_result",
     "execution_count": 3
    }
   ],
   "source": [
    "response_json = json.loads(response.text)['data']['history']\n",
    "data_frame = pd.DataFrame(response_json)\n",
    "data_frame['price'] = pd.to_numeric(data_frame['price'])\n",
    "data_frame['timestamp'] = pd.to_datetime(data_frame['timestamp'], unit='ms').dt.date\n",
    "data_sequence = data_frame.groupby('timestamp').mean()['price']\n",
    "data_sequence"
   ],
   "metadata": {
    "collapsed": false,
    "pycharm": {
     "name": "#%%\n",
     "is_executing": false
    }
   }
  },
  {
   "cell_type": "markdown",
   "source": [
    "Normalize data"
   ],
   "metadata": {
    "collapsed": false,
    "pycharm": {
     "name": "#%% md\n",
     "is_executing": false
    }
   }
  },
  {
   "cell_type": "code",
   "execution_count": 6,
   "outputs": [],
   "source": [
    "chunk_size = 30\n",
    "chunks = []\n",
    "for i in range(len(data_sequence) - chunk_size+1):\n",
    "    chunks.append(data_sequence[i:i+chunk_size])\n",
    "\n",
    "price_change_sequence = []\n",
    "for chunk in chunks:\n",
    "    # TODO: Rethink technique, add float casting\n",
    "    price_change_sequence.append([(price / chunk[0]) - 1 for price in chunk])\n",
    "price_change_sequence"
   ],
   "metadata": {
    "collapsed": false,
    "pycharm": {
     "name": "#%%\n",
     "is_executing": false
    }
   }
  },
  {
   "cell_type": "markdown",
   "source": [
    "Split data into training and test sets"
   ],
   "metadata": {
    "collapsed": false,
    "pycharm": {
     "name": "#%% md\n"
    }
   }
  },
  {
   "cell_type": "code",
   "execution_count": 6,
   "outputs": [
    {
     "name": "stderr",
     "text": [
      "Error evaluating: thread_id: pid_4576_id_4448772304\nframe_id: 4556359312\nscope: FRAME\nattrs: __py_debug_temp_var_793658317\nTraceback (most recent call last):\n  File \"/Users/Pomeranek/Library/Application Support/JetBrains/Toolbox/apps/PyCharm-P/ch-0/192.5728.105/PyCharm.app/Contents/helpers/pydev/_pydevd_bundle/pydevd_vars.py\", line 285, in resolve_compound_variable_fields\n    return _typeName, resolver.get_dictionary(VariableWithOffset(var, offset) if offset else var)\n  File \"/Users/Pomeranek/Library/Application Support/JetBrains/Toolbox/apps/PyCharm-P/ch-0/192.5728.105/PyCharm.app/Contents/helpers/pydev/pydevd_plugins/extensions/types/pydevd_plugin_numpy_types.py\", line 91, in get_dictionary\n    ret['min'] = obj.min()\n  File \"/usr/local/lib/python3.7/site-packages/numpy/core/_methods.py\", line 29, in _amin\n    return umr_minimum(a, axis, None, out, keepdims)\nValueError: zero-size array to reduction operation minimum which has no identity\n"
     ],
     "output_type": "stream"
    }
   ],
   "source": [
    "import numpy as np\n",
    "\n",
    "price_matrix = np.array(price_change_sequence)\n",
    "train_set_size = int(len(price_matrix) * 0.8)\n",
    "train_set = price_matrix[:train_set_size, :]\n",
    "np.random.shuffle(train_set)"
   ],
   "metadata": {
    "collapsed": false,
    "pycharm": {
     "name": "#%%\n",
     "is_executing": false
    }
   }
  }
 ],
 "metadata": {
  "language_info": {
   "codemirror_mode": {
    "name": "ipython",
    "version": 2
   },
   "file_extension": ".py",
   "mimetype": "text/x-python",
   "name": "python",
   "nbconvert_exporter": "python",
   "pygments_lexer": "ipython2",
   "version": "2.7.6"
  },
  "kernelspec": {
   "name": "python3",
   "language": "python",
   "display_name": "Python 3"
  },
  "pycharm": {
   "stem_cell": {
    "cell_type": "raw",
    "source": [],
    "metadata": {
     "collapsed": false
    }
   }
  }
 },
 "nbformat": 4,
 "nbformat_minor": 0
}