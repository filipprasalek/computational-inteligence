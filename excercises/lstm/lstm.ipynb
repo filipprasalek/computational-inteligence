{
 "cells": [
  {
   "cell_type": "markdown",
   "metadata": {
    "pycharm": {
     "name": "#%% md\n"
    }
   },
   "source": [
    "Obtain data form Coinranking API   "
   ]
  },
  {
   "cell_type": "code",
   "execution_count": 1,
   "metadata": {
    "pycharm": {
     "is_executing": false,
     "name": "#%%\n"
    }
   },
   "outputs": [
    {
     "data": {
      "text/plain": [
       "<Response [200]>"
      ]
     },
     "execution_count": 1,
     "metadata": {},
     "output_type": "execute_result"
    }
   ],
   "source": [
    "import requests,json\n",
    "import pandas as pd\n",
    "\n",
    "coin_id = 15 # 1 is BTC, 2 is ETH, 15 is Neo\n",
    "time_range = \"1y\"\n",
    "price_currency = \"EUR\"\n",
    "response = requests.get(\"https://api.coinranking.com/v1/public/coin/%s/history/%s?base=%s\" % (coin_id, time_range, price_currency))\n",
    "response"
   ]
  },
  {
   "cell_type": "markdown",
   "metadata": {
    "pycharm": {
     "name": "#%% md\n"
    }
   },
   "source": [
    "Dump response to JSON file"
   ]
  },
  {
   "cell_type": "code",
   "execution_count": 2,
   "metadata": {
    "pycharm": {
     "is_executing": false,
     "name": "#%%\n"
    }
   },
   "outputs": [],
   "source": [
    "import os\n",
    "\n",
    "os.makedirs('responses', exist_ok=True)\n",
    "file = open('responses/coin%d-history%s-currency%s.json' % (coin_id, time_range, price_currency),'w+')\n",
    "file.write(response.text)\n",
    "file.close()\n"
   ]
  },
  {
   "cell_type": "markdown",
   "metadata": {
    "pycharm": {
     "name": "#%% md\n"
    }
   },
   "source": [
    "Load response in pandas data frame"
   ]
  },
  {
   "cell_type": "code",
   "execution_count": 3,
   "metadata": {
    "pycharm": {
     "is_executing": false,
     "name": "#%%\n"
    }
   },
   "outputs": [
    {
     "data": {
      "text/plain": [
       "timestamp\n",
       "2018-09-09    16.842200\n",
       "2018-09-10    16.019213\n",
       "2018-09-11    16.017558\n",
       "2018-09-12    15.656370\n",
       "2018-09-13    14.719648\n",
       "                ...    \n",
       "2019-09-04     8.314067\n",
       "2019-09-05     8.101336\n",
       "2019-09-06     8.210745\n",
       "2019-09-07     8.118801\n",
       "2019-09-08     8.373332\n",
       "Name: price, Length: 365, dtype: float64"
      ]
     },
     "execution_count": 3,
     "metadata": {},
     "output_type": "execute_result"
    }
   ],
   "source": [
    "response_json = json.loads(response.text)['data']['history']\n",
    "data_frame = pd.DataFrame(response_json)\n",
    "data_frame['price'] = pd.to_numeric(data_frame['price'])\n",
    "data_frame['timestamp'] = pd.to_datetime(data_frame['timestamp'], unit='ms').dt.date\n",
    "data_sequence = data_frame.groupby('timestamp').mean()['price']\n",
    "data_sequence"
   ]
  },
  {
   "cell_type": "markdown",
   "metadata": {
    "pycharm": {
     "is_executing": false,
     "name": "#%% md\n"
    }
   },
   "source": [
    "Normalize data"
   ]
  },
  {
   "cell_type": "code",
   "execution_count": 4,
   "metadata": {
    "pycharm": {
     "is_executing": false,
     "name": "#%%\n"
    }
   },
   "outputs": [
    {
     "data": {
      "text/plain": [
       "336"
      ]
     },
     "execution_count": 4,
     "metadata": {},
     "output_type": "execute_result"
    }
   ],
   "source": [
    "chunk_size = 30\n",
    "chunks = []\n",
    "for i in range(len(data_sequence) - chunk_size+1):\n",
    "    chunks.append(data_sequence[i:i+chunk_size])\n",
    "\n",
    "price_change_sequence = []\n",
    "for chunk in chunks:\n",
    "    price_change_sequence.append([(price / chunk[0]) - 1 for price in chunk])\n",
    "len(price_change_sequence)"
   ]
  },
  {
   "cell_type": "markdown",
   "metadata": {
    "pycharm": {
     "name": "#%% md\n"
    }
   },
   "source": [
    "Split data into training and test sets"
   ]
  },
  {
   "cell_type": "code",
   "execution_count": 5,
   "metadata": {
    "pycharm": {
     "is_executing": false,
     "name": "#%%\n"
    }
   },
   "outputs": [
    {
     "data": {
      "text/plain": [
       "(268, 68)"
      ]
     },
     "execution_count": 5,
     "metadata": {},
     "output_type": "execute_result"
    }
   ],
   "source": [
    "import numpy as np\n",
    "\n",
    "price_matrix = np.array(price_change_sequence)\n",
    "train_set_size = int(len(price_matrix) * 0.8)\n",
    "train_set = price_matrix[:train_set_size, :]\n",
    "np.random.shuffle(train_set)\n",
    "\n",
    "x_train_set, y_train_set = train_set[:train_set_size, :-1], train_set[:train_set_size, -1]\n",
    "x_test_set, y_test_set = price_matrix[train_set_size:, :-1], price_matrix[train_set_size:, -1]\n",
    "\n",
    "x_train_set = np.reshape(x_train_set, (x_train_set.shape[0], x_train_set.shape[1], 1))\n",
    "x_test_set = np.reshape(x_test_set, (x_test_set.shape[0], x_test_set.shape[1], 1))\n",
    "\n",
    "len(x_train_set), len(x_test_set)"
   ]
  },
  {
   "cell_type": "markdown",
   "metadata": {},
   "source": [
    "Build LSTM network"
   ]
  },
  {
   "cell_type": "code",
   "execution_count": 6,
   "metadata": {
    "pycharm": {
     "is_executing": false,
     "name": "#%%\n"
    }
   },
   "outputs": [
    {
     "name": "stderr",
     "output_type": "stream",
     "text": [
      "Using TensorFlow backend.\n"
     ]
    },
    {
     "name": "stdout",
     "output_type": "stream",
     "text": [
      "WARNING:tensorflow:From /usr/local/lib/python3.7/site-packages/keras/backend/tensorflow_backend.py:66: The name tf.get_default_graph is deprecated. Please use tf.compat.v1.get_default_graph instead.\n",
      "\n",
      "WARNING:tensorflow:From /usr/local/lib/python3.7/site-packages/keras/backend/tensorflow_backend.py:541: The name tf.placeholder is deprecated. Please use tf.compat.v1.placeholder instead.\n",
      "\n",
      "WARNING:tensorflow:From /usr/local/lib/python3.7/site-packages/keras/backend/tensorflow_backend.py:4432: The name tf.random_uniform is deprecated. Please use tf.random.uniform instead.\n",
      "\n",
      "WARNING:tensorflow:From /usr/local/lib/python3.7/site-packages/keras/optimizers.py:793: The name tf.train.Optimizer is deprecated. Please use tf.compat.v1.train.Optimizer instead.\n",
      "\n"
     ]
    }
   ],
   "source": [
    "from keras.models import Sequential\n",
    "from keras.layers import LSTM, Dense, Activation\n",
    "\n",
    "\n",
    "lstm = Sequential()\n",
    "lstm.add(LSTM(units=chunk_size, return_sequences=True, input_shape=(None, 1)))\n",
    "lstm.add(Dense(units=32,activation='linear'))\n",
    "lstm.add(LSTM(units=chunk_size, return_sequences=False))\n",
    "lstm.add(Dense(units=1,activation='linear'))\n",
    "lstm.compile(optimizer='rmsprop',loss='mean_squared_error',  metrics=['mse', 'mae', 'mape', 'cosine'],)"
   ]
  },
  {
   "cell_type": "markdown",
   "metadata": {
    "pycharm": {
     "name": "#%% md\n"
    }
   },
   "source": [
    "Train network"
   ]
  },
  {
   "cell_type": "code",
   "execution_count": 7,
   "metadata": {
    "pycharm": {
     "is_executing": true,
     "name": "#%%\n"
    }
   },
   "outputs": [
    {
     "name": "stdout",
     "output_type": "stream",
     "text": [
      "WARNING:tensorflow:From /usr/local/lib/python3.7/site-packages/tensorflow/python/ops/math_grad.py:1250: add_dispatch_support.<locals>.wrapper (from tensorflow.python.ops.array_ops) is deprecated and will be removed in a future version.\n",
      "Instructions for updating:\n",
      "Use tf.where in 2.0, which has the same broadcast rule as np.where\n",
      "WARNING:tensorflow:From /usr/local/lib/python3.7/site-packages/keras/backend/tensorflow_backend.py:1033: The name tf.assign_add is deprecated. Please use tf.compat.v1.assign_add instead.\n",
      "\n",
      "WARNING:tensorflow:From /usr/local/lib/python3.7/site-packages/keras/backend/tensorflow_backend.py:1020: The name tf.assign is deprecated. Please use tf.compat.v1.assign instead.\n",
      "\n",
      "Train on 254 samples, validate on 14 samples\n",
      "Epoch 1/20\n",
      "254/254 [==============================] - 7s 27ms/step - loss: 0.0141 - mean_squared_error: 0.0141 - mean_absolute_error: 0.0885 - mean_absolute_percentage_error: 165.7905 - cosine_proximity: -0.7480 - val_loss: 0.0018 - val_mean_squared_error: 0.0018 - val_mean_absolute_error: 0.0330 - val_mean_absolute_percentage_error: 234.7566 - val_cosine_proximity: -0.5714\n",
      "Epoch 2/20\n",
      "254/254 [==============================] - 5s 20ms/step - loss: 0.0074 - mean_squared_error: 0.0074 - mean_absolute_error: 0.0642 - mean_absolute_percentage_error: 101.8579 - cosine_proximity: -0.8110 - val_loss: 0.0016 - val_mean_squared_error: 0.0016 - val_mean_absolute_error: 0.0293 - val_mean_absolute_percentage_error: 404.1116 - val_cosine_proximity: -0.5714\n",
      "Epoch 3/20\n",
      "254/254 [==============================] - 5s 19ms/step - loss: 0.0063 - mean_squared_error: 0.0063 - mean_absolute_error: 0.0586 - mean_absolute_percentage_error: 99.4683 - cosine_proximity: -0.8583 - val_loss: 9.3948e-04 - val_mean_squared_error: 9.3948e-04 - val_mean_absolute_error: 0.0256 - val_mean_absolute_percentage_error: 220.8131 - val_cosine_proximity: -0.7143\n",
      "Epoch 4/20\n",
      "254/254 [==============================] - 5s 20ms/step - loss: 0.0052 - mean_squared_error: 0.0052 - mean_absolute_error: 0.0523 - mean_absolute_percentage_error: 128.6832 - cosine_proximity: -0.9055 - val_loss: 8.5721e-04 - val_mean_squared_error: 8.5721e-04 - val_mean_absolute_error: 0.0239 - val_mean_absolute_percentage_error: 306.0471 - val_cosine_proximity: -0.8571\n",
      "Epoch 5/20\n",
      "254/254 [==============================] - 6s 23ms/step - loss: 0.0040 - mean_squared_error: 0.0040 - mean_absolute_error: 0.0477 - mean_absolute_percentage_error: 101.4013 - cosine_proximity: -0.9055 - val_loss: 0.0053 - val_mean_squared_error: 0.0053 - val_mean_absolute_error: 0.0666 - val_mean_absolute_percentage_error: 383.1524 - val_cosine_proximity: -0.5714\n",
      "Epoch 6/20\n",
      "254/254 [==============================] - 6s 22ms/step - loss: 0.0037 - mean_squared_error: 0.0037 - mean_absolute_error: 0.0467 - mean_absolute_percentage_error: 136.0411 - cosine_proximity: -0.9055 - val_loss: 0.0021 - val_mean_squared_error: 0.0021 - val_mean_absolute_error: 0.0424 - val_mean_absolute_percentage_error: 375.2784 - val_cosine_proximity: -0.7143\n",
      "Epoch 7/20\n",
      "254/254 [==============================] - 5s 21ms/step - loss: 0.0035 - mean_squared_error: 0.0035 - mean_absolute_error: 0.0435 - mean_absolute_percentage_error: 146.4771 - cosine_proximity: -0.9213 - val_loss: 6.3199e-04 - val_mean_squared_error: 6.3199e-04 - val_mean_absolute_error: 0.0217 - val_mean_absolute_percentage_error: 372.4752 - val_cosine_proximity: -1.0000\n",
      "Epoch 8/20\n",
      "254/254 [==============================] - 5s 21ms/step - loss: 0.0032 - mean_squared_error: 0.0032 - mean_absolute_error: 0.0412 - mean_absolute_percentage_error: 134.5128 - cosine_proximity: -0.8976 - val_loss: 7.1006e-04 - val_mean_squared_error: 7.1006e-04 - val_mean_absolute_error: 0.0217 - val_mean_absolute_percentage_error: 379.9245 - val_cosine_proximity: -1.0000\n",
      "Epoch 9/20\n",
      "254/254 [==============================] - 5s 19ms/step - loss: 0.0031 - mean_squared_error: 0.0031 - mean_absolute_error: 0.0405 - mean_absolute_percentage_error: 110.0033 - cosine_proximity: -0.9055 - val_loss: 6.0233e-04 - val_mean_squared_error: 6.0233e-04 - val_mean_absolute_error: 0.0212 - val_mean_absolute_percentage_error: 318.6832 - val_cosine_proximity: -1.0000\n",
      "Epoch 10/20\n",
      "254/254 [==============================] - 5s 20ms/step - loss: 0.0029 - mean_squared_error: 0.0029 - mean_absolute_error: 0.0384 - mean_absolute_percentage_error: 99.5552 - cosine_proximity: -0.9370 - val_loss: 8.7179e-04 - val_mean_squared_error: 8.7179e-04 - val_mean_absolute_error: 0.0234 - val_mean_absolute_percentage_error: 285.7556 - val_cosine_proximity: -0.8571\n",
      "Epoch 11/20\n",
      "254/254 [==============================] - 5s 19ms/step - loss: 0.0029 - mean_squared_error: 0.0029 - mean_absolute_error: 0.0378 - mean_absolute_percentage_error: 122.4954 - cosine_proximity: -0.9213 - val_loss: 0.0014 - val_mean_squared_error: 0.0014 - val_mean_absolute_error: 0.0301 - val_mean_absolute_percentage_error: 269.1151 - val_cosine_proximity: -0.8571\n",
      "Epoch 12/20\n",
      "254/254 [==============================] - 5s 19ms/step - loss: 0.0027 - mean_squared_error: 0.0027 - mean_absolute_error: 0.0396 - mean_absolute_percentage_error: 119.4837 - cosine_proximity: -0.8976 - val_loss: 8.8136e-04 - val_mean_squared_error: 8.8136e-04 - val_mean_absolute_error: 0.0238 - val_mean_absolute_percentage_error: 196.5097 - val_cosine_proximity: -0.8571\n",
      "Epoch 13/20\n",
      "254/254 [==============================] - 5s 21ms/step - loss: 0.0026 - mean_squared_error: 0.0026 - mean_absolute_error: 0.0375 - mean_absolute_percentage_error: 125.5761 - cosine_proximity: -0.8819 - val_loss: 0.0058 - val_mean_squared_error: 0.0058 - val_mean_absolute_error: 0.0722 - val_mean_absolute_percentage_error: 546.7976 - val_cosine_proximity: -0.5714\n",
      "Epoch 14/20\n",
      "254/254 [==============================] - 5s 21ms/step - loss: 0.0025 - mean_squared_error: 0.0025 - mean_absolute_error: 0.0374 - mean_absolute_percentage_error: 115.2362 - cosine_proximity: -0.8898 - val_loss: 0.0019 - val_mean_squared_error: 0.0019 - val_mean_absolute_error: 0.0352 - val_mean_absolute_percentage_error: 194.3163 - val_cosine_proximity: -0.5714\n",
      "Epoch 15/20\n",
      "254/254 [==============================] - 5s 20ms/step - loss: 0.0027 - mean_squared_error: 0.0027 - mean_absolute_error: 0.0363 - mean_absolute_percentage_error: 112.6475 - cosine_proximity: -0.9213 - val_loss: 0.0011 - val_mean_squared_error: 0.0011 - val_mean_absolute_error: 0.0241 - val_mean_absolute_percentage_error: 144.6147 - val_cosine_proximity: -0.8571\n",
      "Epoch 16/20\n",
      "254/254 [==============================] - 6s 23ms/step - loss: 0.0025 - mean_squared_error: 0.0025 - mean_absolute_error: 0.0360 - mean_absolute_percentage_error: 102.3121 - cosine_proximity: -0.9134 - val_loss: 0.0011 - val_mean_squared_error: 0.0011 - val_mean_absolute_error: 0.0253 - val_mean_absolute_percentage_error: 83.9185 - val_cosine_proximity: -0.8571\n",
      "Epoch 17/20\n",
      "254/254 [==============================] - 6s 22ms/step - loss: 0.0027 - mean_squared_error: 0.0027 - mean_absolute_error: 0.0384 - mean_absolute_percentage_error: 106.7417 - cosine_proximity: -0.8819 - val_loss: 6.9362e-04 - val_mean_squared_error: 6.9362e-04 - val_mean_absolute_error: 0.0184 - val_mean_absolute_percentage_error: 102.2629 - val_cosine_proximity: -0.8571\n",
      "Epoch 18/20\n",
      "254/254 [==============================] - 5s 21ms/step - loss: 0.0026 - mean_squared_error: 0.0026 - mean_absolute_error: 0.0366 - mean_absolute_percentage_error: 111.4282 - cosine_proximity: -0.9213 - val_loss: 7.9557e-04 - val_mean_squared_error: 7.9557e-04 - val_mean_absolute_error: 0.0191 - val_mean_absolute_percentage_error: 107.5603 - val_cosine_proximity: -0.7143\n",
      "Epoch 19/20\n",
      "254/254 [==============================] - 5s 20ms/step - loss: 0.0027 - mean_squared_error: 0.0027 - mean_absolute_error: 0.0359 - mean_absolute_percentage_error: 139.2629 - cosine_proximity: -0.9291 - val_loss: 0.0010 - val_mean_squared_error: 0.0010 - val_mean_absolute_error: 0.0244 - val_mean_absolute_percentage_error: 203.2700 - val_cosine_proximity: -0.5714\n",
      "Epoch 20/20\n"
     ]
    },
    {
     "name": "stdout",
     "output_type": "stream",
     "text": [
      "254/254 [==============================] - 5s 20ms/step - loss: 0.0027 - mean_squared_error: 0.0027 - mean_absolute_error: 0.0375 - mean_absolute_percentage_error: 86.2114 - cosine_proximity: -0.9134 - val_loss: 8.1979e-04 - val_mean_squared_error: 8.1979e-04 - val_mean_absolute_error: 0.0206 - val_mean_absolute_percentage_error: 130.3637 - val_cosine_proximity: -0.5714\n"
     ]
    },
    {
     "data": {
      "text/plain": [
       "107.80656790733337"
      ]
     },
     "execution_count": 7,
     "metadata": {},
     "output_type": "execute_result"
    }
   ],
   "source": [
    "import time\n",
    "start_time = time.time()\n",
    "history = lstm.fit(x=x_train_set,\n",
    "          y=y_train_set,\n",
    "          batch_size=2,\n",
    "          epochs=20,\n",
    "          validation_split=0.05)\n",
    "end_time = time.time()\n",
    "processing_time = end_time - start_time\n",
    "processing_time"
   ]
  },
  {
   "cell_type": "markdown",
   "metadata": {
    "pycharm": {
     "name": "#%% md\n"
    }
   },
   "source": [
    "Save network model"
   ]
  },
  {
   "cell_type": "code",
   "execution_count": 8,
   "metadata": {
    "pycharm": {
     "is_executing": true,
     "name": "#%%\n"
    }
   },
   "outputs": [],
   "source": [
    "os.makedirs('model', exist_ok=True)\n",
    "lstm.save('model/coin%d-history%s-currency%s.h5' % (coin_id, time_range, price_currency))"
   ]
  },
  {
   "cell_type": "markdown",
   "metadata": {
    "pycharm": {
     "name": "#%% md\n"
    }
   },
   "source": [
    "Load trained model from file"
   ]
  },
  {
   "cell_type": "code",
   "execution_count": 9,
   "metadata": {
    "pycharm": {
     "is_executing": true,
     "name": "#%%\n"
    }
   },
   "outputs": [],
   "source": [
    "# lstm.load('model/coin%d-history%s-currency%s.h5' % (coin_id, time_range, price_currency))"
   ]
  },
  {
   "cell_type": "markdown",
   "metadata": {
    "pycharm": {
     "name": "#%% md\n"
    }
   },
   "source": [
    "Predict"
   ]
  },
  {
   "cell_type": "code",
   "execution_count": 10,
   "metadata": {
    "pycharm": {
     "is_executing": true,
     "name": "#%% \n"
    }
   },
   "outputs": [],
   "source": [
    "predictions = lstm.predict(x_test_set, batch_size=2)"
   ]
  },
  {
   "cell_type": "markdown",
   "metadata": {},
   "source": [
    "Denormalize predictions "
   ]
  },
  {
   "cell_type": "code",
   "execution_count": 11,
   "metadata": {
    "pycharm": {
     "is_executing": true,
     "name": "#%%\n"
    }
   },
   "outputs": [],
   "source": [
    "price_matrix = np.array(chunks)\n",
    "denormalized_x_test = price_matrix[train_set_size:,:-1]\n",
    "denormalized_y_test = price_matrix[train_set_size:,-1]\n",
    "denormalized_predictions = []\n",
    "predictions = np.reshape(predictions, (predictions.shape[0]))\n",
    "for index in range(len(predictions)):\n",
    "    pred = (predictions[index]+1)* denormalized_x_test[index][0]\n",
    "    denormalized_predictions.append(pred)\n",
    "denormalized_predictions = np.array(denormalized_predictions)"
   ]
  },
  {
   "cell_type": "markdown",
   "metadata": {
    "pycharm": {
     "name": "#%% md\n"
    }
   },
   "source": [
    "Visualize results"
   ]
  },
  {
   "cell_type": "code",
   "execution_count": 12,
   "metadata": {
    "pycharm": {
     "is_executing": true,
     "name": "#%%\n"
    }
   },
   "outputs": [
    {
     "name": "stdout",
     "output_type": "stream",
     "text": [
      "69 68 68\n"
     ]
    },
    {
     "data": {
      "text/plain": [
       "<Figure size 640x480 with 1 Axes>"
      ]
     },
     "metadata": {},
     "output_type": "display_data"
    }
   ],
   "source": [
    "import matplotlib.pyplot as plt\n",
    "\n",
    "print(len(range(69)), len(denormalized_y_test), len(denormalized_predictions))\n",
    "\n",
    "plot_data_frame = pd.DataFrame({'date': range(68) ,'actual_values': denormalized_y_test, 'predictions': denormalized_predictions}) \n",
    "ax = plt.gca()\n",
    "\n",
    "plot_data_frame.plot(kind='line',x='date',y='actual_values',ax=ax)\n",
    "plot_data_frame.plot(kind='line',x='date',y='predictions', color='red', ax=ax)\n",
    "\n",
    "plt.show()"
   ]
  },
  {
   "cell_type": "markdown",
   "metadata": {},
   "source": [
    "Visualize mean squared error"
   ]
  },
  {
   "cell_type": "code",
   "execution_count": 14,
   "metadata": {
    "pycharm": {
     "is_executing": true
    },
    "scrolled": true
   },
   "outputs": [
    {
     "data": {
      "image/png": "[encoded data removed]",
      "text/plain": [
       "<Figure size 432x288 with 1 Axes>"
      ]
     },
     "metadata": {
      "needs_background": "light"
     },
     "output_type": "display_data"
    }
   ],
   "source": [
    "plt.plot(history.history['mean_squared_error'])\n",
    "plt.show()"
   ]
  },
  {
   "cell_type": "code",
   "execution_count": null,
   "metadata": {},
   "outputs": [],
   "source": []
  },
  {
   "cell_type": "code",
   "execution_count": null,
   "metadata": {},
   "outputs": [],
   "source": []
  },
  {
   "cell_type": "code",
   "execution_count": null,
   "metadata": {},
   "outputs": [],
   "source": []
  }
 ],
 "metadata": {
  "kernelspec": {
   "display_name": "Python 3",
   "language": "python",
   "name": "python3"
  },
  "language_info": {
   "codemirror_mode": {
    "name": "ipython",
    "version": 3
   },
   "file_extension": ".py",
   "mimetype": "text/x-python",
   "name": "python",
   "nbconvert_exporter": "python",
   "pygments_lexer": "ipython3",
   "version": "3.7.4"
  },
  "pycharm": {
   "stem_cell": {
    "cell_type": "raw",
    "metadata": {
     "collapsed": false
    },
    "source": []
   }
  }
 },
 "nbformat": 4,
 "nbformat_minor": 1
}
